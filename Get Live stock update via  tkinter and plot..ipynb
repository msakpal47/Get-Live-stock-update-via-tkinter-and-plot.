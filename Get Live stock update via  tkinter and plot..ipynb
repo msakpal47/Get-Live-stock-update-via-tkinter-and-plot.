{
 "cells": [
  {
   "cell_type": "code",
   "execution_count": null,
   "id": "95162128",
   "metadata": {},
   "outputs": [],
   "source": [
    "pip install datetime"
   ]
  },
  {
   "cell_type": "code",
   "execution_count": null,
   "id": "20f7fcd4",
   "metadata": {},
   "outputs": [],
   "source": [
    "pip install numpy"
   ]
  },
  {
   "cell_type": "code",
   "execution_count": null,
   "id": "a6c54ee1",
   "metadata": {},
   "outputs": [],
   "source": [
    "pip install matplotlib"
   ]
  },
  {
   "cell_type": "code",
   "execution_count": null,
   "id": "449796bd",
   "metadata": {},
   "outputs": [],
   "source": [
    "pip install quandl"
   ]
  },
  {
   "cell_type": "code",
   "execution_count": null,
   "id": "b5225c46",
   "metadata": {},
   "outputs": [],
   "source": [
    "pip install pandas"
   ]
  },
  {
   "cell_type": "code",
   "execution_count": null,
   "id": "2288b105",
   "metadata": {},
   "outputs": [],
   "source": [
    "import pandas as pd\n",
    "import quandl as qd\n",
    "\n",
    "qd.ApiConfig.api_key = \"N-Aq8YQzLzVh78F2fpfP\"\n",
    "\n",
    "BHEL_data = qd.get('NSE/BHEL',\n",
    "\t\t\t\tstart_date=\"2010-01-01\",\n",
    "\t\t\t\tend_date=\"2020-01-01\")\n",
    "BHEL_data.head()\n"
   ]
  },
  {
   "cell_type": "code",
   "execution_count": null,
   "id": "4f3ff3e3",
   "metadata": {},
   "outputs": [],
   "source": [
    "# Import numpy package\n",
    "import numpy as np\n",
    "\n",
    "\n",
    "# assign `Adj Close` to `close_price`\n",
    "close_price = BHEL_data[['Close']]\n",
    "\n",
    "# returns as fractional change\n",
    "daily_return = close_price.pct_change()\n",
    "\n",
    "# replacing NA values with 0\n",
    "daily_return.fillna(0, inplace=True)\n",
    "\n",
    "print(daily_return)\n"
   ]
  },
  {
   "cell_type": "code",
   "execution_count": null,
   "id": "8ec2f99d",
   "metadata": {},
   "outputs": [],
   "source": []
  },
  {
   "cell_type": "code",
   "execution_count": null,
   "id": "975ec609",
   "metadata": {},
   "outputs": [],
   "source": [
    "# assigning adjusted closing prices \n",
    "# to adj_prices\n",
    "adj_price = BHEL_data['Close']\n",
    "\n",
    "# calculate the moving average\n",
    "mav = adj_price.rolling(window=50).mean()\n",
    "\n",
    "# print the result\n",
    "print(mav[-10:])\n"
   ]
  },
  {
   "cell_type": "code",
   "execution_count": null,
   "id": "2d928eeb",
   "metadata": {},
   "outputs": [],
   "source": [
    "# import the matplotlib package \n",
    "# to see the plot\n",
    "import matplotlib.pyplot as plt\n",
    "\n",
    "adj_price.plot()\n"
   ]
  },
  {
   "cell_type": "code",
   "execution_count": null,
   "id": "97249966",
   "metadata": {},
   "outputs": [],
   "source": [
    "mav.plot()\n"
   ]
  },
  {
   "cell_type": "code",
   "execution_count": null,
   "id": "cf957dbe",
   "metadata": {},
   "outputs": [],
   "source": [
    "# import the matplotlib package \n",
    "# to see the plot\n",
    "import matplotlib.pyplot as plt\n",
    "\n",
    "adj_price.plot()\n",
    "mav.plot()\n"
   ]
  },
  {
   "cell_type": "code",
   "execution_count": null,
   "id": "9b2d05d8",
   "metadata": {},
   "outputs": [],
   "source": []
  },
  {
   "cell_type": "code",
   "execution_count": null,
   "id": "ec9f7ac1",
   "metadata": {},
   "outputs": [],
   "source": [
    "pip install yfinance"
   ]
  },
  {
   "cell_type": "code",
   "execution_count": null,
   "id": "cd523700",
   "metadata": {},
   "outputs": [],
   "source": [
    "pip install yahoo_fin"
   ]
  },
  {
   "cell_type": "code",
   "execution_count": null,
   "id": "07b839b3",
   "metadata": {},
   "outputs": [],
   "source": [
    "pip install tk"
   ]
  },
  {
   "cell_type": "code",
   "execution_count": null,
   "id": "7022ad03",
   "metadata": {},
   "outputs": [],
   "source": [
    "from yahoo_fin import stock_info\n"
   ]
  },
  {
   "cell_type": "code",
   "execution_count": null,
   "id": "c7de7762",
   "metadata": {},
   "outputs": [],
   "source": [
    "stock_info.get_live_price(\"BHEL.NS\")\n"
   ]
  },
  {
   "cell_type": "code",
   "execution_count": null,
   "id": "392fd092",
   "metadata": {},
   "outputs": [],
   "source": [
    "# Import the Required modules\n",
    "import yfinance as yf\n",
    "\n",
    "# Inputting the name of the Stock and Storing it in a Variable\n",
    "STK = input(\"Enter share name : \")\n",
    "\n",
    "# Extract the Share information using the Ticker() Function\n",
    "Share = yf.Ticker(STK).info\n",
    "\n",
    "# Extracting the MarketPrice from the data\n",
    "market_price = Share\n",
    "\n",
    "# Printing the market price\n",
    "print(market_price)\n",
    "\n",
    "#This Code is Contributed by PL VISHNUPPRIYAN\n"
   ]
  },
  {
   "cell_type": "code",
   "execution_count": null,
   "id": "e8a0b615",
   "metadata": {},
   "outputs": [],
   "source": [
    "# Import the Required modules\n",
    "import yfinance as yf\n",
    "\n",
    "# Inputting the name of the Stock and Storing it in a Variable\n",
    "STK = input(\"Enter share name : \")\n",
    "\n",
    "# Extract the Share information using the Ticker() Function\n",
    "Share = yf.Ticker(STK).info\n",
    "\n",
    "# Extracting the MarketPrice from the data\n",
    "market_price = Share['enterpriseToRevenue']\n",
    "\n",
    "# Printing the market price\n",
    "print(market_price)"
   ]
  },
  {
   "cell_type": "markdown",
   "id": "5d860e0f",
   "metadata": {},
   "source": [
    "# check stock price by TKinter"
   ]
  },
  {
   "cell_type": "code",
   "execution_count": null,
   "id": "4fcb08fa",
   "metadata": {},
   "outputs": [],
   "source": [
    "# Import the Required modules\n",
    "import yfinance as yf\n",
    "\n",
    "# Inputting the name of the Stock and Storing it in a Variable\n",
    "STK = input(\"Enter share name : \")\n",
    "\n",
    "# Extract the Share information using the Ticker() Function\n",
    "Share = yf.Ticker(STK).info\n",
    "\n",
    "# Extracting the MarketPrice from the data\n",
    "market_price = Share['regularMarketOpen']\n",
    "\n",
    "# Printing the market price\n",
    "print(market_price)\n",
    "\n",
    "#This Code is Contributed by PL VISHNUPPRIYAN\n"
   ]
  },
  {
   "cell_type": "code",
   "execution_count": null,
   "id": "644d4cab",
   "metadata": {},
   "outputs": [],
   "source": [
    "from yahoo_fin import stock_info\n",
    "from tkinter import *\n",
    "\n",
    "\n",
    "def stock_price():\n",
    "\n",
    "\tprice = stock_info.get_live_price(e1.get())\n",
    "\tCurrent_stock.set(price)\n",
    "\n",
    "\n",
    "master = Tk()\n",
    "Current_stock = StringVar()\n",
    "\n",
    "Label(master, text=\"Company Symbol : \").grid(row=0, sticky=W)\n",
    "Label(master, text=\"Stock Result:\").grid(row=3, sticky=W)\n",
    "\n",
    "result2 = Label(master, text=\"\", textvariable=Current_stock,\n",
    "\t\t\t\t).grid(row=3, column=1, sticky=W)\n",
    "\n",
    "e1 = Entry(master)\n",
    "e1.grid(row=0, column=1)\n",
    "\n",
    "b = Button(master, text=\"Show\", command=stock_price)\n",
    "b.grid(row=0, column=2, columnspan=2, rowspan=2, padx=5, pady=5)\n",
    "\n",
    "mainloop()\n"
   ]
  },
  {
   "cell_type": "code",
   "execution_count": null,
   "id": "aa4342d7",
   "metadata": {},
   "outputs": [],
   "source": [
    "tickers"
   ]
  },
  {
   "cell_type": "code",
   "execution_count": null,
   "id": "8e4fd1da",
   "metadata": {},
   "outputs": [],
   "source": []
  },
  {
   "cell_type": "code",
   "execution_count": null,
   "id": "75532d1b",
   "metadata": {},
   "outputs": [],
   "source": [
    "data"
   ]
  },
  {
   "cell_type": "code",
   "execution_count": null,
   "id": "bd66f42f",
   "metadata": {},
   "outputs": [],
   "source": [
    "#pip install datareader"
   ]
  },
  {
   "cell_type": "code",
   "execution_count": null,
   "id": "19cc8358",
   "metadata": {},
   "outputs": [],
   "source": [
    "from yahoo_fin import stock_info\n",
    "from tkinter import *\n",
    "\n",
    "\n",
    "def stock_price():\n",
    "\n",
    "\tprice = stock_info.get_live_price(e1.get())\n",
    "\tCurrent_stock.set(price)\n",
    "\n",
    "\n",
    "master = Tk()\n",
    "Current_stock = StringVar()\n",
    "\n",
    "Label(master, text=\"Company Symbol : \").grid(row=0, sticky=W)\n",
    "Label(master, text=\"Stock Result:\").grid(row=3, sticky=W)\n",
    "\n",
    "result2 = Label(master, text=\"\", textvariable=Current_stock,\n",
    "\t\t\t\t).grid(row=3, column=1, sticky=W)\n",
    "\n",
    "e1 = Entry(master)\n",
    "e1.grid(row=0, column=1)\n",
    "\n",
    "b = Button(master, text=\"Show\", command=stock_price)\n",
    "b.grid(row=0, column=2, columnspan=2, rowspan=2, padx=5, pady=5)\n",
    "\n",
    "mainloop()\n"
   ]
  },
  {
   "cell_type": "markdown",
   "id": "71e2d01a",
   "metadata": {},
   "source": [
    "# check a plot"
   ]
  },
  {
   "cell_type": "code",
   "execution_count": null,
   "id": "75db62f7",
   "metadata": {},
   "outputs": [],
   "source": [
    "from tkinter import *\n",
    "from matplotlib.figure import Figure \n",
    "from matplotlib.backends.backend_tkagg import (FigureCanvasTkAgg, \n",
    "NavigationToolbar2Tk) \n",
    "\n",
    "# plot function is created for \n",
    "# plotting the graph in \n",
    "# tkinter window \n",
    "def plot(): \n",
    "\n",
    "\t# the figure that will contain the plot \n",
    "\tfig = Figure(figsize = (5, 5), \n",
    "\t\t\t\tdpi = 100) \n",
    "\n",
    "\t# list of squares \n",
    "\ty = [i**2 for i in range(101)] \n",
    "\n",
    "\t# adding the subplot \n",
    "\tplot1 = fig.add_subplot(111) \n",
    "\n",
    "\t# plotting the graph \n",
    "\tplot1.plot(y) \n",
    "\n",
    "\t# creating the Tkinter canvas \n",
    "\t# containing the Matplotlib figure \n",
    "\tcanvas = FigureCanvasTkAgg(fig, \n",
    "\t\t\t\t\t\t\tmaster = window) \n",
    "\tcanvas.draw() \n",
    "\n",
    "\t# placing the canvas on the Tkinter window \n",
    "\tcanvas.get_tk_widget().pack() \n",
    "\n",
    "\t# creating the Matplotlib toolbar \n",
    "\ttoolbar = NavigationToolbar2Tk(canvas, \n",
    "\t\t\t\t\t\t\t\twindow) \n",
    "\ttoolbar.update() \n",
    "\n",
    "\t# placing the toolbar on the Tkinter window \n",
    "\tcanvas.get_tk_widget().pack() \n",
    "\n",
    "# the main Tkinter window \n",
    "window = Tk() \n",
    "\n",
    "# setting the title \n",
    "window.title('Plotting in Tkinter') \n",
    "\n",
    "# dimensions of the main window \n",
    "window.geometry(\"500x500\") \n",
    "\n",
    "# button that displays the plot \n",
    "plot_button = Button(master = window, \n",
    "\t\t\t\t\tcommand = plot, \n",
    "\t\t\t\t\theight = 2, \n",
    "\t\t\t\t\twidth = 10, \n",
    "\t\t\t\t\ttext = \"Plot\") \n",
    "\n",
    "# place the button \n",
    "# in main window \n",
    "plot_button.pack() \n",
    "\n",
    "# run the gui \n",
    "window.mainloop() \n"
   ]
  },
  {
   "cell_type": "code",
   "execution_count": null,
   "id": "da0bcf3f",
   "metadata": {},
   "outputs": [],
   "source": [
    "pip install yfinance "
   ]
  },
  {
   "cell_type": "code",
   "execution_count": null,
   "id": "e1ec3c7f",
   "metadata": {},
   "outputs": [],
   "source": [
    "pip install yfinance --upgrade"
   ]
  },
  {
   "cell_type": "code",
   "execution_count": null,
   "id": "eb2b4e08",
   "metadata": {},
   "outputs": [],
   "source": [
    "pip install yfinance --upgrade --no-cache-dir"
   ]
  },
  {
   "cell_type": "code",
   "execution_count": null,
   "id": "3cca817a",
   "metadata": {},
   "outputs": [],
   "source": [
    "pip install datareader"
   ]
  },
  {
   "cell_type": "code",
   "execution_count": null,
   "id": "f240335a",
   "metadata": {},
   "outputs": [],
   "source": [
    "import tkinter as tk\n",
    "import matplotlib\n",
    "matplotlib.use('TkAgg')\n",
    "from matplotlib.figure import Figure\n",
    "from matplotlib.backends.backend_tkagg import FigureCanvasTkAgg, NavigationToolbar2Tk\n",
    "import pandas as pd\n"
   ]
  },
  {
   "cell_type": "code",
   "execution_count": null,
   "id": "321041f8",
   "metadata": {},
   "outputs": [],
   "source": [
    "import yfinance as yf\n",
    "yf.download('AAPL', period='1mo')\n",
    "yf.Ticker('AAPL').info['enterpriseToRevenue']"
   ]
  },
  {
   "cell_type": "code",
   "execution_count": null,
   "id": "e49cd8c5",
   "metadata": {},
   "outputs": [],
   "source": [
    "# import the necessary modules\n",
    "import tkinter as tk\n",
    "import matplotlib\n",
    "matplotlib.use('TkAgg')\n",
    "from matplotlib.figure import Figure\n",
    "from matplotlib.backends.backend_tkagg import FigureCanvasTkAgg, NavigationToolbar2Tk\n",
    "import pandas as pd\n",
    "import yfinance as yf\n",
    "\n",
    "# create a Tkinter root window\n",
    "root = tk.Tk()\n",
    "root.title('Tkinter Plot Live Stock Price Example')\n",
    "root.geometry('800x600')\n",
    "\n",
    "# create a Tkinter entry widget\n",
    "entry = tk.Entry(root)\n",
    "entry.pack()\n",
    "\n",
    "# create a Tkinter button widget\n",
    "button = tk.Button(root, text='Show', command=lambda: plot_stock_price(entry.get()))\n",
    "button.pack()\n",
    "\n",
    "# define the function that will get the live stock price and plot it on a canvas\n",
    "def plot_stock_price(symbol):\n",
    "    \n",
    "    \n",
    "    # get the stock symbol and validate it\n",
    "    symbol = symbol.upper()\n",
    "    if not symbol.isalpha():\n",
    "        tk.messagebox.showerror('Invalid Symbol', 'Please enter a valid stock symbol.')\n",
    "        return\n",
    "    # use the yfinance module to get the live stock price and the historical data\n",
    "    try:\n",
    "        live_price = yf.Ticker(symbol).info['enterpriseToRevenue']\n",
    "        #price = stock_info.get_live_price(e1.get())\n",
    "        #Current_stock.set(price)\n",
    "        hist_data = yf.download(symbol, period='1mo')\n",
    "        \n",
    "        \n",
    "    except:\n",
    "        tk.messagebox.showerror('Data Error', 'Failed to get data from Yahoo Finance.')\n",
    "        return\n",
    "    # create a matplotlib figure object and an axes object\n",
    "    fig = Figure(figsize=(8, 6), dpi=100)\n",
    "    ax = fig.add_subplot(111)\n",
    "    # use the axes object to plot the historical data as a line chart and the live stock price as a scatter point\n",
    "    ax.plot(hist_data.index, hist_data['Close'], label='Historical Data')\n",
    "    ax.scatter(hist_data.index[-1], live_price, color='red', label='Live Price')\n",
    "    ax.set_title(f'{symbol} Stock Price')\n",
    "    ax.set_xlabel('Date')\n",
    "    ax.set_ylabel('Price')\n",
    "    ax.legend()\n",
    "    # create a matplotlib figure canvas object and a toolbar object\n",
    "    canvas = FigureCanvasTkAgg(fig, master=root)\n",
    "    toolbar = NavigationToolbar2Tk(canvas, root)\n",
    "    # get the Tkinter widget that contains the canvas and the toolbar and pack it in the root window\n",
    "    widget = canvas.get_tk_widget()\n",
    "    widget.pack()\n",
    "\n",
    "# start the GUI application\n",
    "root.mainloop()\n"
   ]
  },
  {
   "cell_type": "code",
   "execution_count": null,
   "id": "7f5c5d42",
   "metadata": {},
   "outputs": [],
   "source": []
  }
 ],
 "metadata": {
  "kernelspec": {
   "display_name": "Python 3 (ipykernel)",
   "language": "python",
   "name": "python3"
  },
  "language_info": {
   "codemirror_mode": {
    "name": "ipython",
    "version": 3
   },
   "file_extension": ".py",
   "mimetype": "text/x-python",
   "name": "python",
   "nbconvert_exporter": "python",
   "pygments_lexer": "ipython3",
   "version": "3.11.5"
  }
 },
 "nbformat": 4,
 "nbformat_minor": 5
}
